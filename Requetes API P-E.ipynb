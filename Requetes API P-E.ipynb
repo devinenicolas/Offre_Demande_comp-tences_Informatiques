{
 "cells": [
  {
   "cell_type": "raw",
   "id": "90038f0e",
   "metadata": {},
   "source": [
    "Requête vers l'API Pole Emploi"
   ]
  },
  {
   "cell_type": "raw",
   "id": "3c49fd1f",
   "metadata": {},
   "source": [
    "Lien : https://api.pole-emploi.io/partenaire/explorateurmetiers/v1/explorateurmetiers"
   ]
  },
  {
   "cell_type": "raw",
   "id": "2490d8a7",
   "metadata": {},
   "source": [
    "Etape 1 / Générer un access token\n",
    "L'application s'authentifie auprès de Pôle Emploi Access Management et demande un access token en spécifiant les API souhaitées.\n",
    "Si l'application est autorisée, Pôle Emploi Access Management génère et transmet un access token\n",
    " \n",
    "Etape 2 / Requêter une API\n",
    "L'application fournit l'access token à chaque interrogation d'une API"
   ]
  },
  {
   "cell_type": "code",
   "execution_count": null,
   "id": "c0c60823",
   "metadata": {},
   "outputs": [],
   "source": []
  }
 ],
 "metadata": {
  "kernelspec": {
   "display_name": "Python 3 (ipykernel)",
   "language": "python",
   "name": "python3"
  },
  "language_info": {
   "codemirror_mode": {
    "name": "ipython",
    "version": 3
   },
   "file_extension": ".py",
   "mimetype": "text/x-python",
   "name": "python",
   "nbconvert_exporter": "python",
   "pygments_lexer": "ipython3",
   "version": "3.9.13"
  }
 },
 "nbformat": 4,
 "nbformat_minor": 5
}
